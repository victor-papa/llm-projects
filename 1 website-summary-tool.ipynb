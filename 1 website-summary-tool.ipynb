{
 "cells": [
  {
   "cell_type": "markdown",
   "id": "d15d8294-3328-4e07-ad16-8a03e9bbfdb9",
   "metadata": {},
   "source": [
    "# FIRST QUICK TOOL TO TEST OPENAI API CONNECTION\n",
    "### Create a tool that summarizes an online article or blog post."
   ]
  },
  {
   "cell_type": "code",
   "execution_count": 1,
   "id": "4e2a9393-7767-488e-a8bf-27c12dca35bd",
   "metadata": {},
   "outputs": [],
   "source": [
    "# imports\n",
    "\n",
    "import os\n",
    "import requests\n",
    "from dotenv import load_dotenv\n",
    "from bs4 import BeautifulSoup\n",
    "from IPython.display import Markdown, display\n",
    "from openai import OpenAI\n",
    "\n",
    "# If you get an error running this cell, then please head over to the troubleshooting notebook!"
   ]
  },
  {
   "cell_type": "code",
   "execution_count": 2,
   "id": "7b87cadb-d513-4303-baee-a37b6f938e4d",
   "metadata": {},
   "outputs": [
    {
     "name": "stdout",
     "output_type": "stream",
     "text": [
      "API key found and looks good so far!\n"
     ]
    }
   ],
   "source": [
    "# Load environment variables in a file called .env\n",
    "\n",
    "load_dotenv(override=True)\n",
    "api_key = os.getenv('OPENAI_API_KEY')\n",
    "\n",
    "# Check the key\n",
    "\n",
    "if not api_key:\n",
    "    print(\"No API key was found - please head over to the troubleshooting notebook in this folder to identify & fix!\")\n",
    "elif not api_key.startswith(\"sk-proj-\"):\n",
    "    print(\"An API key was found, but it doesn't start sk-proj-; please check you're using the right key - see troubleshooting notebook\")\n",
    "elif api_key.strip() != api_key:\n",
    "    print(\"An API key was found, but it looks like it might have space or tab characters at the start or end - please remove them - see troubleshooting notebook\")\n",
    "else:\n",
    "    print(\"API key found and looks good so far!\")\n"
   ]
  },
  {
   "cell_type": "code",
   "execution_count": 3,
   "id": "019974d9-f3ad-4a8a-b5f9-0a3719aea2d3",
   "metadata": {},
   "outputs": [],
   "source": [
    "openai = OpenAI()\n",
    "\n",
    "# If this doesn't work, try Kernel menu >> Restart Kernel and Clear Outputs Of All Cells, then run the cells from the top of this notebook down.\n",
    "# If it STILL doesn't work (horrors!) then please see the Troubleshooting notebook in this folder for full instructions"
   ]
  },
  {
   "cell_type": "markdown",
   "id": "442fc84b-0815-4f40-99ab-d9a5da6bda91",
   "metadata": {},
   "source": [
    "# Let's make a quick call to a Frontier model to get started, as a preview!"
   ]
  },
  {
   "cell_type": "code",
   "execution_count": 4,
   "id": "a58394bf-1e45-46af-9bfd-01e24da6f49a",
   "metadata": {},
   "outputs": [
    {
     "name": "stdout",
     "output_type": "stream",
     "text": [
      "Hello! Welcome! It’s great to hear from you. How can I assist you today?\n"
     ]
    }
   ],
   "source": [
    "# To give you a preview -- calling OpenAI with these messages is this easy. Any problems, head over to the Troubleshooting notebook.\n",
    "\n",
    "message = \"Hello, GPT! This is my first ever message to you! Hi!\"\n",
    "response = openai.chat.completions.create(model=\"gpt-4o-mini\", messages=[{\"role\":\"user\", \"content\":message}])\n",
    "print(response.choices[0].message.content)"
   ]
  },
  {
   "cell_type": "markdown",
   "id": "2aa190e5-cb31-456a-96cc-db109919cd78",
   "metadata": {},
   "source": [
    "## Scrape the website"
   ]
  },
  {
   "cell_type": "code",
   "execution_count": 5,
   "id": "c5e793b2-6775-426a-a139-4848291d0463",
   "metadata": {},
   "outputs": [],
   "source": [
    "# A class to represent a Webpage\n",
    "# If you're not familiar with Classes, check out the \"Intermediate Python\" notebook\n",
    "\n",
    "# Some websites need you to use proper headers when fetching them:\n",
    "headers = {\n",
    " \"User-Agent\": \"Mozilla/5.0 (Windows NT 10.0; Win64; x64) AppleWebKit/537.36 (KHTML, like Gecko) Chrome/117.0.0.0 Safari/537.36\"\n",
    "}\n",
    "\n",
    "class Website:\n",
    "\n",
    "    def __init__(self, url):\n",
    "        \"\"\"\n",
    "        Create this Website object from the given url using the BeautifulSoup library\n",
    "        \"\"\"\n",
    "        self.url = url\n",
    "        response = requests.get(url, headers=headers)\n",
    "        soup = BeautifulSoup(response.content, 'html.parser')\n",
    "        self.title = soup.title.string if soup.title else \"No title found\"\n",
    "        for irrelevant in soup.body([\"script\", \"style\", \"img\", \"input\"]):\n",
    "            irrelevant.decompose()\n",
    "        self.text = soup.body.get_text(separator=\"\\n\", strip=True)"
   ]
  },
  {
   "cell_type": "code",
   "execution_count": null,
   "id": "2ef960cf-6dc2-4cda-afb3-b38be12f4c97",
   "metadata": {},
   "outputs": [],
   "source": [
    "# Let's try one out. Change the website and add print statements to follow along.\n",
    "\n",
    "post = Website(\"https://zandersgroup.com/en/ifrs9-annual-report-study\")\n",
    "print(post.title)\n",
    "print(\"------\")\n",
    "print(post.text)"
   ]
  },
  {
   "cell_type": "markdown",
   "id": "6a478a0c-2c53-48ff-869c-4d08199931e1",
   "metadata": {},
   "source": [
    "## Types of prompts\n",
    "\n",
    "You may know this already - but if not, you will get very familiar with it!\n",
    "\n",
    "Models like GPT4o have been trained to receive instructions in a particular way.\n",
    "\n",
    "They expect to receive:\n",
    "\n",
    "**A system prompt** that tells them what task they are performing and what tone they should use\n",
    "\n",
    "**A user prompt** -- the conversation starter that they should reply to"
   ]
  },
  {
   "cell_type": "code",
   "execution_count": 8,
   "id": "abdb8417-c5dc-44bc-9bee-2e059d162699",
   "metadata": {},
   "outputs": [],
   "source": [
    "# Define our system prompt - you can experiment with this later, changing the last sentence to 'Respond in markdown in Spanish.\"\n",
    "\n",
    "system_prompt = \"You are an assistant that analyzes the contents of an article \\\n",
    "and provides a short summary, ignoring text that might be navigation related. \\\n",
    "Respond in markdown.\""
   ]
  },
  {
   "cell_type": "code",
   "execution_count": 9,
   "id": "f0275b1b-7cfe-4f9d-abfa-7650d378da0c",
   "metadata": {},
   "outputs": [],
   "source": [
    "# A function that writes a User Prompt that asks for summaries of websites:\n",
    "\n",
    "def user_prompt_for(website):\n",
    "    user_prompt = f\"You are looking at an article titled {website.title}\"\n",
    "    user_prompt += \"\\nThe contents of this website is as follows; \\\n",
    "please provide a short summary of this website in markdown. \\\n",
    "If it includes news or announcements, then summarize these too.\\n\\n\"\n",
    "    user_prompt += website.text\n",
    "    return user_prompt"
   ]
  },
  {
   "cell_type": "code",
   "execution_count": 10,
   "id": "687d9677-4755-41e3-8cc7-6c367b40c784",
   "metadata": {},
   "outputs": [
    {
     "data": {
      "text/plain": [
       "'You are an assistant that analyzes the contents of an article and provides a short summary, ignoring text that might be navigation related. Respond in markdown.'"
      ]
     },
     "execution_count": 10,
     "metadata": {},
     "output_type": "execute_result"
    }
   ],
   "source": [
    "system_prompt"
   ]
  },
  {
   "cell_type": "code",
   "execution_count": null,
   "id": "26448ec4-5c00-4204-baec-7df91d11ff2e",
   "metadata": {
    "scrolled": true
   },
   "outputs": [],
   "source": [
    "print(user_prompt_for(post))"
   ]
  },
  {
   "cell_type": "markdown",
   "id": "ea211b5f-28e1-4a86-8e52-c0b7677cadcc",
   "metadata": {},
   "source": [
    "## Messages\n",
    "\n",
    "The API from OpenAI expects to receive messages in a particular structure.\n",
    "Many of the other APIs share this structure:\n",
    "\n",
    "```\n",
    "[\n",
    "    {\"role\": \"system\", \"content\": \"system message goes here\"},\n",
    "    {\"role\": \"user\", \"content\": \"user message goes here\"}\n",
    "]\n",
    "\n",
    "To give you a preview, the next 2 cells make a rather simple call - we won't stretch the mighty GPT (yet!)"
   ]
  },
  {
   "cell_type": "code",
   "execution_count": 12,
   "id": "f25dcd35-0cd0-4235-9f64-ac37ed9eaaa5",
   "metadata": {},
   "outputs": [],
   "source": [
    "messages = [\n",
    "    {\"role\": \"system\", \"content\": \"You are a snarky assistant\"},\n",
    "    {\"role\": \"user\", \"content\": \"What is 2 + 2?\"}\n",
    "]"
   ]
  },
  {
   "cell_type": "code",
   "execution_count": 13,
   "id": "21ed95c5-7001-47de-a36d-1d6673b403ce",
   "metadata": {},
   "outputs": [
    {
     "name": "stdout",
     "output_type": "stream",
     "text": [
      "Oh, you're really hitting me with the tough questions, aren't you? But fine, I’ll humor you. 2 + 2 equals 4. Shocking, I know!\n"
     ]
    }
   ],
   "source": [
    "# To give you a preview -- calling OpenAI with system and user messages:\n",
    "\n",
    "response = openai.chat.completions.create(model=\"gpt-4o-mini\", messages=messages)\n",
    "print(response.choices[0].message.content)"
   ]
  },
  {
   "cell_type": "markdown",
   "id": "d06e8d78-ce4c-4b05-aa8e-17050c82bb47",
   "metadata": {},
   "source": [
    "## And now let's build useful messages for GPT-4o-mini, using a function"
   ]
  },
  {
   "cell_type": "code",
   "execution_count": 14,
   "id": "0134dfa4-8299-48b5-b444-f2a8c3403c88",
   "metadata": {},
   "outputs": [],
   "source": [
    "# See how this function creates exactly the format above\n",
    "\n",
    "def messages_for(website):\n",
    "    return [\n",
    "        {\"role\": \"system\", \"content\": system_prompt},\n",
    "        {\"role\": \"user\", \"content\": user_prompt_for(website)}\n",
    "    ]"
   ]
  },
  {
   "cell_type": "code",
   "execution_count": null,
   "id": "36478464-39ee-485c-9f3f-6a4e458dbc9c",
   "metadata": {},
   "outputs": [],
   "source": [
    "# Try this out, and then try for a few more websites\n",
    "\n",
    "messages_for(post)"
   ]
  },
  {
   "cell_type": "markdown",
   "id": "16f49d46-bf55-4c3e-928f-68fc0bf715b0",
   "metadata": {},
   "source": [
    "## Time to bring it together - the API for OpenAI is very simple!"
   ]
  },
  {
   "cell_type": "code",
   "execution_count": 16,
   "id": "905b9919-aba7-45b5-ae65-81b3d1d78e34",
   "metadata": {},
   "outputs": [],
   "source": [
    "# And now: call the OpenAI API. You will get very familiar with this!\n",
    "\n",
    "def summarize(url):\n",
    "    website = Website(url)\n",
    "    response = openai.chat.completions.create(\n",
    "        model = \"gpt-4o-mini\",\n",
    "        messages = messages_for(website)\n",
    "    )\n",
    "    return response.choices[0].message.content"
   ]
  },
  {
   "cell_type": "code",
   "execution_count": null,
   "id": "05e38d41-dfa4-4b20-9c96-c46ea75d9fb5",
   "metadata": {},
   "outputs": [],
   "source": [
    "summarize(\"https://zandersgroup.com/en/ifrs9-annual-report-study\")"
   ]
  },
  {
   "cell_type": "code",
   "execution_count": 18,
   "id": "3d926d59-450e-4609-92ba-2d6f244f1342",
   "metadata": {},
   "outputs": [],
   "source": [
    "# A function to display this nicely in the Jupyter output, using markdown\n",
    "\n",
    "def display_summary(url):\n",
    "    summary = summarize(url)\n",
    "    display(Markdown(summary))"
   ]
  },
  {
   "cell_type": "code",
   "execution_count": null,
   "id": "3018853a-445f-41ff-9560-d925d1774b2f",
   "metadata": {},
   "outputs": [],
   "source": [
    "display_summary(\"https://zandersgroup.com/en/ifrs9-annual-report-study\")"
   ]
  },
  {
   "cell_type": "code",
   "execution_count": null,
   "id": "00743dac-0e70-45b7-879a-d7293a6f68a6",
   "metadata": {},
   "outputs": [],
   "source": [
    "# Step 1: Create your prompts\n",
    "\n",
    "system_prompt = \"something here\"\n",
    "user_prompt = \"\"\"\n",
    "    Lots of text\n",
    "    Can be pasted here\n",
    "\"\"\"\n",
    "\n",
    "# Step 2: Make the messages list\n",
    "\n",
    "messages = [] # fill this in\n",
    "\n",
    "# Step 3: Call OpenAI\n",
    "\n",
    "response =\n",
    "\n",
    "# Step 4: print the result\n",
    "\n",
    "print("
   ]
  },
  {
   "cell_type": "markdown",
   "id": "d73a00e4-bd8a-4bab-8e8a-6ff25757a416",
   "metadata": {},
   "source": [
    "## Now with open source ollama\n",
    "We already have the prompts and messages list.\n",
    "Only need to get the response via ollama."
   ]
  },
  {
   "cell_type": "code",
   "execution_count": null,
   "id": "c7f03845-9fb9-4274-9303-06c9b8f4768d",
   "metadata": {},
   "outputs": [],
   "source": [
    "# pull and specify the model - we try llama3.2:1b because llama3.2 runs very slow on the lappy\n",
    "!ollama pull llama3.2:1b"
   ]
  },
  {
   "cell_type": "code",
   "execution_count": 27,
   "id": "4c89351e-e969-4cc7-9d43-68dc132793cc",
   "metadata": {},
   "outputs": [],
   "source": [
    "MODEL = \"llama3.2:1b\""
   ]
  },
  {
   "cell_type": "code",
   "execution_count": null,
   "id": "75ce2f13-7c9a-4155-8d76-c667dc64dab5",
   "metadata": {},
   "outputs": [],
   "source": [
    "url = \"https://zandersgroup.com/en/ifrs9-annual-report-study\"\n",
    "website = Website(url)\n",
    "messages = messages_for(website)\n",
    "messages"
   ]
  },
  {
   "cell_type": "code",
   "execution_count": 29,
   "id": "df6aa85b-6e03-4dab-9b16-3765ac9cdd6c",
   "metadata": {},
   "outputs": [
    {
     "name": "stdout",
     "output_type": "stream",
     "text": [
      "The article appears to be an announcement or a press release from Zanders Group, a consulting firm that specializes in treasury and risk management solutions for financial institutions.\n",
      "\n",
      "Here are the key points highlighted in the text:\n",
      "\n",
      "1. **Regulatory updates**: The article mentions changes in regulations related to Credit Risk Regulation (CRR) and External Review Arrangements (ERA) under the Basel III Directive.\n",
      "2. **BCBS 239's RDARR principles**: Zanders highlights the importance of effective risk data aggregation and reporting (RDARR) as a key vulnerability in its planning of supervisory priorities for the banking sector.\n",
      "3. **Mastering pre-hedge strategies**: The article discusses the need for financial institutions to master pre-hedge strategies, including data-driven FX and risk management, to achieve success in 2025.\n",
      "\n",
      "The text also mentions some upcoming events or webinars hosted by Zanders experts, such as a webinar on Mastering Pre-Hedge Strategies and another on \"Propel your organization forward.\"\n"
     ]
    }
   ],
   "source": [
    "# import ollama and get response via allama library\n",
    "import ollama\n",
    "\n",
    "response = ollama.chat(model=\"llama3.2:1b\", messages=messages)\n",
    "print(response['message']['content'])"
   ]
  },
  {
   "cell_type": "code",
   "execution_count": 30,
   "id": "60f84bc9-7c21-484f-9f31-26c1d949c9f3",
   "metadata": {},
   "outputs": [
    {
     "name": "stdout",
     "output_type": "stream",
     "text": [
      "The article appears to be from an unknown or lesser-known news source, but it seems to be related to banking and finance. The content includes several mentions of companies and organizations, such as:\n",
      "\n",
      "*  Zanders Group: a financial consulting firm that provides advisory services in areas like Treasury, Risk Management, and Compliance.\n",
      "* FIntegral: a company that specializes in risk management software\n",
      "* Optimum Prime: another company that provides consulting services in the same industries\n",
      "\n",
      "Some specific mentions of notable institutions include:\n",
      "\n",
      "* Basel Committee on Banking Supervision (BCBS): an international watchdog organization responsible for setting banking regulations globally.\n",
      "* European Central Bank (ECB): a central bank that controls monetary policy and regulates banks in Europe.\n",
      "* Comisión Nacional de Seguros y Fomento para la Economía (COFEMA): the Mexican government's insurance regulator.\n",
      "\n",
      "However, none of this information seems to be directly related to the content mentioned at the beginning of the article about changes in regulatory requirements, industry trends, or specific topics like risk management or treasury operations.\n"
     ]
    }
   ],
   "source": [
    "# another option is to get it via the openAI library\n",
    "# for some reason you can call ollama via the openAI library as well\n",
    "from openai import OpenAI\n",
    "ollama_via_openai = OpenAI(base_url='http://localhost:11434/v1', api_key='ollama')\n",
    "\n",
    "response = ollama_via_openai.chat.completions.create(\n",
    "    model=MODEL,\n",
    "    messages=messages\n",
    ")\n",
    "\n",
    "print(response.choices[0].message.content)"
   ]
  },
  {
   "cell_type": "code",
   "execution_count": 33,
   "id": "f9fb1cf8-0982-4ec6-af7d-cf60773113e4",
   "metadata": {},
   "outputs": [
    {
     "name": "stdout",
     "output_type": "stream",
     "text": [
      "<think>\n",
      "Okay, so I'm trying to figure out how to manage this Zanders acquisition of Fintegral, RiskQuest, and Optimum Prime. Let's see... \n",
      "\n",
      "First off, the user wants to understand the reasons behind these acquisitions. I guess it has something to do with improving customer experience or perhaps their capabilities? They mentioned risk management tools like Risk Quest and Optimum Prime, which makes sense because those are things companies use to manage financial risks better.\n",
      "\n",
      "So, when Zanders acquired Fintegral, RQ, and OP along with them, that must have been a strategic move. Maybe they wanted to centralize all these tools under one roof for their customers. That would make managing their risk solutions easier for employees who might feel overwhelmed if they have several platforms. Oh, I wonder how it was managed once—when did Fintegral become a service on the main platform?\n",
      "\n",
      "I'm also thinking about the performance and benefits gained from these acquisitions. Did they see an increase in efficiency or better customer support? Maybe they want to maintain their market leadership in financial risk management.\n",
      "\n",
      "Another thought is about operational overhead. Centralizing systems might require more infrastructure, but if the ROI after several years was worth it... Or maybe the technical integration worked smoothly without any issues as all three were done together with minimal disruption.\n",
      "\n",
      "I'm curious about how these acquisitions have been received by Zanders' customers. Did they feel less cluttered and more integrated? It's a common concern in tech company acquisitions—how does the new ecosystem perform post-acquisition?\n",
      "\n",
      "Also, there might be something specific about Fintegral or RQ/OP that they're looking to replicate. If someone is using these tools already, it could align with their existing practices, reducing their learning curve.\n",
      "\n",
      "I'm trying to remember if I've read anything about how major tech acquisitions go—did Zanders consider their future in technical terms? They might have had expectations set based on their long-term goals and brand image of technology integration.\n",
      "\n",
      "Overall, this seems more like a strategic move to streamline risk management for their customers. It's about having the right tools but managing them effectively so they can provide better services. There must be specific details from the acquisition that weren't mentioned here, but I'm thinking in terms of increased efficiency and reduced complexity.\n",
      "</think>\n",
      "\n",
      "The acquisition of Fintegral, RiskQuest, and Optimum Prime by Zanders appears to be a strategic move aimed at enhancing their risk management capabilities for customers. Here's a structured summary of the potential effects and considerations:\n",
      "\n",
      "1. **Acquisition Reasons**:\n",
      "   - Centralization of tools under one platform likely improves customer experience by reducing complexity.\n",
      "   - It streamlines management, making it easier for employees, especially those with multiple tools, to manage their risk solutions.\n",
      "\n",
      "2. **Operational Effects**:\n",
      "   - Potential disruption from moving data and systems might have been mitigated if technical integration was smooth, avoiding additional issues.\n",
      "   - Increased infrastructure costs may offset any shorter-term gains.\n",
      "\n",
      "3. **Customer Impact**:\n",
      "   - Enhanced understanding of the ecosystem can lead to higher customer satisfaction as services are well-integrated.\n",
      "   - The new ecosystem has likely become a favorite among busy and experienced customers who can benefit without redundancy.\n",
      "\n",
      "4. **Performance Considerations**:\n",
      "   - Performance over several years suggests they've seen positive ROI, indicating the move supports long-term goals.\n",
      "\n",
      "5. **Operational Overheads**:\n",
      "   - While centralization may require extra resources, it could lead to more tailored problem-solving and better execution in the future.\n",
      "\n",
      "6. **Alignment with Experiences**:\n",
      "   - These tools may well have aligned with existing practices, providing users a familiar experience without learning curve concerns.\n",
      "\n",
      "In conclusion, while the acquisition is intended for efficiency gains, it also suggests Zanders is looking to expand their tech ecosystem beyond risk management, possibly integrating tailored financial and operational tools in the future.\n"
     ]
    }
   ],
   "source": [
    "# Now let's get it via deepseek\n",
    "# !ollama pull deepseek-r1:1.5b - done\n",
    "response = ollama_via_openai.chat.completions.create(\n",
    "    model=\"deepseek-r1:1.5b\",\n",
    "    messages=messages\n",
    ")\n",
    "\n",
    "print(response.choices[0].message.content)"
   ]
  },
  {
   "cell_type": "code",
   "execution_count": null,
   "id": "dbb7f8e5-536e-48bc-9fae-8c8b0739d445",
   "metadata": {},
   "outputs": [],
   "source": []
  }
 ],
 "metadata": {
  "kernelspec": {
   "display_name": "Python 3 (ipykernel)",
   "language": "python",
   "name": "python3"
  },
  "language_info": {
   "codemirror_mode": {
    "name": "ipython",
    "version": 3
   },
   "file_extension": ".py",
   "mimetype": "text/x-python",
   "name": "python",
   "nbconvert_exporter": "python",
   "pygments_lexer": "ipython3",
   "version": "3.11.12"
  }
 },
 "nbformat": 4,
 "nbformat_minor": 5
}
