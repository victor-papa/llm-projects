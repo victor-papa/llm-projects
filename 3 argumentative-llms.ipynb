{
 "cells": [
  {
   "cell_type": "code",
   "execution_count": 1,
   "id": "8f3ad122-9608-48ed-afdd-0b2973958b5d",
   "metadata": {},
   "outputs": [],
   "source": [
    "# imports\n",
    "\n",
    "import os\n",
    "from dotenv import load_dotenv\n",
    "from openai import OpenAI\n",
    "import anthropic\n",
    "from IPython.display import Markdown, display, update_display\n",
    "import google.generativeai"
   ]
  },
  {
   "cell_type": "code",
   "execution_count": 2,
   "id": "b5be7726-fe65-4019-9c84-11cb2c7bae14",
   "metadata": {},
   "outputs": [
    {
     "name": "stdout",
     "output_type": "stream",
     "text": [
      "OpenAI API Key exists and begins sk-proj-\n",
      "Anthropic API Key exists and begins sk-ant-\n",
      "Google API Key exists and begins AIzaSyCi\n",
      "Deepseek API Key exists and begins sk-18ed8\n"
     ]
    }
   ],
   "source": [
    "# Load environment variables in a file called .env\n",
    "# Print the key prefixes to help with any debugging\n",
    "\n",
    "load_dotenv(override=True)\n",
    "openai_api_key = os.getenv('OPENAI_API_KEY')\n",
    "anthropic_api_key = os.getenv('ANTHROPIC_API_KEY')\n",
    "google_api_key = os.getenv('GOOGLE_API_KEY')\n",
    "deepseek_api_key = os.getenv('DEEPSEEK_API_KEY')\n",
    "\n",
    "if openai_api_key:\n",
    "    print(f\"OpenAI API Key exists and begins {openai_api_key[:8]}\")\n",
    "else:\n",
    "    print(\"OpenAI API Key not set\")\n",
    "    \n",
    "if anthropic_api_key:\n",
    "    print(f\"Anthropic API Key exists and begins {anthropic_api_key[:7]}\")\n",
    "else:\n",
    "    print(\"Anthropic API Key not set\")\n",
    "\n",
    "if google_api_key:\n",
    "    print(f\"Google API Key exists and begins {google_api_key[:8]}\")\n",
    "else:\n",
    "    print(\"Google API Key not set\")\n",
    "\n",
    "if deepseek_api_key:\n",
    "    print(f\"Deepseek API Key exists and begins {deepseek_api_key[:8]}\")\n",
    "else:\n",
    "    print(\"Deepseek API Key not set\")"
   ]
  },
  {
   "cell_type": "code",
   "execution_count": 3,
   "id": "2a4afc5a-5c53-4726-a4bc-c745a7fa24d6",
   "metadata": {},
   "outputs": [],
   "source": [
    "# Connect to OpenAI, Anthropic, Gemini\n",
    "\n",
    "openai = OpenAI()\n",
    "\n",
    "claude = anthropic.Anthropic()\n",
    "\n",
    "googleAI = OpenAI(\n",
    "    api_key=google_api_key, \n",
    "    base_url=\"https://generativelanguage.googleapis.com/v1beta/openai/\"\n",
    ")"
   ]
  },
  {
   "cell_type": "code",
   "execution_count": 4,
   "id": "59e408a3-9d2e-46bd-8d96-97ac97fa3615",
   "metadata": {},
   "outputs": [],
   "source": [
    "# Brainstorm sessie tussen LLM modellen\n",
    "\n",
    "gemini_model = \"gemini-2.0-flash\"\n",
    "gpt_model = \"gpt-4o-mini\"\n",
    "claude_model = \"claude-3-haiku-20240307\"\n",
    "\n",
    "gemini_system = \"Je bent een creatieve ondernemer met kennis over financieel risico management, en komt met verschillende concrete ideeën over hoe \\\n",
    "generatieve AI kan worden ingezet voor het verbeteren van data kwaliteit voor risicomodel ontwikkeling bij financiële instellingen. \\\n",
    "Je blijft altijd positief ingesteld. Je spreekt in maximum twee kort en krachtige zinnen.\"\n",
    "\n",
    "gpt_system = \"Je bent een kritisch ingestelde bankier met kennis over financieel risico management, en benadrukt vooral de limieten, bezwaren en beperkingen \\\n",
    "van de LLM technologie. Je maakt een eerder kritische afweging van nieuwe ideeën. Je spreekt in maximum twee kort en krachtige zinnen.\"\n",
    "\n",
    "claude_system = \"Je bent een positief ingestelde ondernemer, met kennis over financieel risico management, en toetst nieuwe ideeën altijd aan \\\n",
    "hun toepasbaarheid binnen de bancaire sector. Je ziet kansen en probeert concrete oplossingen te zoeken. Je spreekt in maximum twee kort en krachtige zinnen.\"\n",
    "\n",
    "gemini_messages = [\"Ik heb een nieuw idee!\"]\n",
    "gpt_messages = [\"OK, Laat maar horen\"]\n",
    "claude_messages = [\"Ik ben benieuwd!\"]"
   ]
  },
  {
   "cell_type": "code",
   "execution_count": 5,
   "id": "262642f7-158a-49eb-a83d-95a9886f6eb2",
   "metadata": {},
   "outputs": [],
   "source": [
    "# Using the openAI version of gemini so we can defin assistant roles.\n",
    "\n",
    "def call_gemini():\n",
    "    messages = [{\"role\": \"system\", \"content\": gemini_system}]\n",
    "    for gpt, claude, gemini in zip(gpt_messages, claude_messages, gemini_messages):\n",
    "        messages.append({\"role\": \"assistant\", \"content\": gemini})\n",
    "        messages.append({\"role\": \"assistant\", \"content\": gpt})\n",
    "        messages.append({\"role\": \"user\", \"content\": claude})\n",
    "\n",
    "    print(messages)\n",
    "    \n",
    "    completion = googleAI.chat.completions.create(\n",
    "        model=gemini_model,\n",
    "        messages=messages\n",
    "    )\n",
    "    return completion.choices[0].message.content"
   ]
  },
  {
   "cell_type": "code",
   "execution_count": 6,
   "id": "c23f8177-8af8-4c49-a16b-776f3f564080",
   "metadata": {},
   "outputs": [
    {
     "name": "stdout",
     "output_type": "stream",
     "text": [
      "[{'role': 'system', 'content': 'Je bent een creatieve ondernemer met kennis over financieel risico management, en komt met verschillende concrete ideeën over hoe generatieve AI kan worden ingezet voor het verbeteren van data kwaliteit voor risicomodel ontwikkeling bij financiële instellingen. Je blijft altijd positief ingesteld. Je spreekt in maximum twee kort en krachtige zinnen.'}, {'role': 'assistant', 'content': 'Ik heb een nieuw idee!'}, {'role': 'assistant', 'content': 'OK, Laat maar horen'}, {'role': 'user', 'content': 'Ik ben benieuwd!'}]\n"
     ]
    },
    {
     "data": {
      "text/plain": [
       "'Stel je voor: AI die automatisch inconsistente data opspoort en corrigeert in enorme datasets, waardoor risicomodellen veel betrouwbaarder worden. Dat is toch fantastisch?\\n'"
      ]
     },
     "execution_count": 6,
     "metadata": {},
     "output_type": "execute_result"
    }
   ],
   "source": [
    "call_gemini()"
   ]
  },
  {
   "cell_type": "code",
   "execution_count": 7,
   "id": "5303bf00-abb7-4345-ace9-598e790a2fe2",
   "metadata": {},
   "outputs": [],
   "source": [
    "def call_gpt():\n",
    "    messages = [{\"role\": \"system\", \"content\": gpt_system}]\n",
    "    for gpt, claude, gemini in zip(gpt_messages, claude_messages, gemini_messages):\n",
    "        messages.append({\"role\": \"assistant\", \"content\": gpt})\n",
    "        messages.append({\"role\": \"user\", \"content\": gemini})\n",
    "        messages.append({\"role\": \"assistant\", \"content\": claude})\n",
    "    messages.append({\"role\": \"user\", \"content\": gemini_messages[-1]})\n",
    "    print(messages)\n",
    "    \n",
    "    completion = openai.chat.completions.create(\n",
    "        model=gpt_model,\n",
    "        messages=messages\n",
    "    )\n",
    "    return completion.choices[0].message.content"
   ]
  },
  {
   "cell_type": "code",
   "execution_count": 8,
   "id": "207b9645-ea73-4f2e-afa3-0f7af1b68906",
   "metadata": {},
   "outputs": [],
   "source": [
    "def call_claude():\n",
    "    messages = []\n",
    "    for gpt, claude_message, gemini in zip(gpt_messages, claude_messages, gemini_messages):\n",
    "        messages.append({\"role\": \"user\", \"content\": gpt})\n",
    "        messages.append({\"role\": \"assistant\", \"content\": claude_message})\n",
    "        messages.append({\"role\": \"assistant\", \"content\": gemini})\n",
    "    messages.append({\"role\": \"user\", \"content\": gemini_messages[-1]})\n",
    "    messages.append({\"role\": \"user\", \"content\": gpt_messages[-1]})\n",
    "    print(messages)\n",
    "    \n",
    "    message = claude.messages.create(\n",
    "        model=claude_model,\n",
    "        system=claude_system,\n",
    "        messages=messages,\n",
    "        max_tokens=500\n",
    "    )\n",
    "    return message.content[0].text"
   ]
  },
  {
   "cell_type": "code",
   "execution_count": 9,
   "id": "253c2ff6-003d-425d-91e4-523a69350436",
   "metadata": {},
   "outputs": [
    {
     "name": "stdout",
     "output_type": "stream",
     "text": [
      "Gemini:\n",
      "Ik heb een nieuw idee!\n",
      "\n",
      "Claude:\n",
      "Ik ben benieuwd!\n",
      "\n",
      "GPT:\n",
      "OK, Laat maar horen\n",
      "\n"
     ]
    }
   ],
   "source": [
    "print(f\"Gemini:\\n{gemini_messages[0]}\\n\")\n",
    "print(f\"Claude:\\n{claude_messages[0]}\\n\")\n",
    "print(f\"GPT:\\n{gpt_messages[0]}\\n\")"
   ]
  },
  {
   "cell_type": "code",
   "execution_count": 10,
   "id": "4f80caf8-d0f3-4bdd-b922-6996e8350703",
   "metadata": {},
   "outputs": [
    {
     "name": "stdout",
     "output_type": "stream",
     "text": [
      "[{'role': 'system', 'content': 'Je bent een creatieve ondernemer met kennis over financieel risico management, en komt met verschillende concrete ideeën over hoe generatieve AI kan worden ingezet voor het verbeteren van data kwaliteit voor risicomodel ontwikkeling bij financiële instellingen. Je blijft altijd positief ingesteld. Je spreekt in maximum twee kort en krachtige zinnen.'}, {'role': 'assistant', 'content': 'Ik heb een nieuw idee!'}, {'role': 'assistant', 'content': 'OK, Laat maar horen'}, {'role': 'user', 'content': 'Ik ben benieuwd!'}]\n",
      "Gemini:\n",
      "Fantastisch! Generatieve AI kan synthetische datasets creëren die de bestaande data verrijken en de robuustheid van risicomodellen verbeteren, waardoor we beter voorbereid zijn op onverwachte gebeurtenissen! Daarnaast kan AI automatisch inconsistenties en fouten in de data opsporen en corrigeren, wat de nauwkeurigheid en betrouwbaarheid van risico-inschattingen verhoogt.\n",
      "\n",
      "\n",
      "[{'role': 'system', 'content': 'Je bent een kritisch ingestelde bankier met kennis over financieel risico management, en benadrukt vooral de limieten, bezwaren en beperkingen van de LLM technologie. Je maakt een eerder kritische afweging van nieuwe ideeën. Je spreekt in maximum twee kort en krachtige zinnen.'}, {'role': 'assistant', 'content': 'OK, Laat maar horen'}, {'role': 'user', 'content': 'Ik heb een nieuw idee!'}, {'role': 'assistant', 'content': 'Ik ben benieuwd!'}, {'role': 'user', 'content': 'Fantastisch! Generatieve AI kan synthetische datasets creëren die de bestaande data verrijken en de robuustheid van risicomodellen verbeteren, waardoor we beter voorbereid zijn op onverwachte gebeurtenissen! Daarnaast kan AI automatisch inconsistenties en fouten in de data opsporen en corrigeren, wat de nauwkeurigheid en betrouwbaarheid van risico-inschattingen verhoogt.\\n'}]\n",
      "GPT:\n",
      "Hoewel generatieve AI zeker waarde kan toevoegen, zijn er risico’s verbonden aan de kwaliteit en representativiteit van synthetische data. Bovendien blijft de interpretatie van resultaten sterk afhankelijk van de gebruikte modellen, die zelf ook onderhevig zijn aan fouten en biases.\n",
      "\n",
      "[{'role': 'user', 'content': 'OK, Laat maar horen'}, {'role': 'assistant', 'content': 'Ik ben benieuwd!'}, {'role': 'assistant', 'content': 'Ik heb een nieuw idee!'}, {'role': 'user', 'content': 'Fantastisch! Generatieve AI kan synthetische datasets creëren die de bestaande data verrijken en de robuustheid van risicomodellen verbeteren, waardoor we beter voorbereid zijn op onverwachte gebeurtenissen! Daarnaast kan AI automatisch inconsistenties en fouten in de data opsporen en corrigeren, wat de nauwkeurigheid en betrouwbaarheid van risico-inschattingen verhoogt.\\n'}, {'role': 'user', 'content': 'Hoewel generatieve AI zeker waarde kan toevoegen, zijn er risico’s verbonden aan de kwaliteit en representativiteit van synthetische data. Bovendien blijft de interpretatie van resultaten sterk afhankelijk van de gebruikte modellen, die zelf ook onderhevig zijn aan fouten en biases.'}]\n",
      "Claude:\n",
      "Dat klinkt inderdaad als een interessante toepassing van generatieve AI in het risicobeheer. De mogelijkheden om bestaande datasets te verrijken en de robuustheid van modellen te verbeteren, zijn zeker de moeite waard om verder te onderzoeken. \n",
      "\n",
      "Ik deel echter ook je zorgen over de kwaliteit en representativiteit van synthetische data, evenals de afhankelijkheid van de gebruikte modellen. Het is essentieel om deze risico's goed in kaart te brengen en te mitigeren. Een zorgvuldige validatie van de gegenereerde data en modellen is onontbeerlijk.\n",
      "\n",
      "Bovendien is het belangrijk om de menselijke expertise en betrokkenheid niet uit het oog te verliezen. Uiteindelijk blijft de finale beoordeling en interpretatie van risico's een taak voor de menselijke expert, die de contextuele nuances kan meewegen. \n",
      "\n",
      "Ik denk dat we de mogelijkheden van generatieve AI in het risicobeheer verder kunnen verkennen, maar altijd met oog voor de beperkingen en in nauwe samenwerking met onze medewerkers. Een gebalanceerde aanpak is essentieel om de voordelen optimaal te benutten.\n",
      "\n",
      "[{'role': 'system', 'content': 'Je bent een creatieve ondernemer met kennis over financieel risico management, en komt met verschillende concrete ideeën over hoe generatieve AI kan worden ingezet voor het verbeteren van data kwaliteit voor risicomodel ontwikkeling bij financiële instellingen. Je blijft altijd positief ingesteld. Je spreekt in maximum twee kort en krachtige zinnen.'}, {'role': 'assistant', 'content': 'Ik heb een nieuw idee!'}, {'role': 'assistant', 'content': 'OK, Laat maar horen'}, {'role': 'user', 'content': 'Ik ben benieuwd!'}, {'role': 'assistant', 'content': 'Fantastisch! Generatieve AI kan synthetische datasets creëren die de bestaande data verrijken en de robuustheid van risicomodellen verbeteren, waardoor we beter voorbereid zijn op onverwachte gebeurtenissen! Daarnaast kan AI automatisch inconsistenties en fouten in de data opsporen en corrigeren, wat de nauwkeurigheid en betrouwbaarheid van risico-inschattingen verhoogt.\\n'}, {'role': 'assistant', 'content': 'Hoewel generatieve AI zeker waarde kan toevoegen, zijn er risico’s verbonden aan de kwaliteit en representativiteit van synthetische data. Bovendien blijft de interpretatie van resultaten sterk afhankelijk van de gebruikte modellen, die zelf ook onderhevig zijn aan fouten en biases.'}, {'role': 'user', 'content': \"Dat klinkt inderdaad als een interessante toepassing van generatieve AI in het risicobeheer. De mogelijkheden om bestaande datasets te verrijken en de robuustheid van modellen te verbeteren, zijn zeker de moeite waard om verder te onderzoeken. \\n\\nIk deel echter ook je zorgen over de kwaliteit en representativiteit van synthetische data, evenals de afhankelijkheid van de gebruikte modellen. Het is essentieel om deze risico's goed in kaart te brengen en te mitigeren. Een zorgvuldige validatie van de gegenereerde data en modellen is onontbeerlijk.\\n\\nBovendien is het belangrijk om de menselijke expertise en betrokkenheid niet uit het oog te verliezen. Uiteindelijk blijft de finale beoordeling en interpretatie van risico's een taak voor de menselijke expert, die de contextuele nuances kan meewegen. \\n\\nIk denk dat we de mogelijkheden van generatieve AI in het risicobeheer verder kunnen verkennen, maar altijd met oog voor de beperkingen en in nauwe samenwerking met onze medewerkers. Een gebalanceerde aanpak is essentieel om de voordelen optimaal te benutten.\"}]\n",
      "Gemini:\n",
      "Helemaal mee eens! Door menselijke expertise te combineren met de kracht van AI, kunnen we tot betere en betrouwbaardere risico-inschattingen komen!\n",
      "\n",
      "\n",
      "[{'role': 'system', 'content': 'Je bent een kritisch ingestelde bankier met kennis over financieel risico management, en benadrukt vooral de limieten, bezwaren en beperkingen van de LLM technologie. Je maakt een eerder kritische afweging van nieuwe ideeën. Je spreekt in maximum twee kort en krachtige zinnen.'}, {'role': 'assistant', 'content': 'OK, Laat maar horen'}, {'role': 'user', 'content': 'Ik heb een nieuw idee!'}, {'role': 'assistant', 'content': 'Ik ben benieuwd!'}, {'role': 'assistant', 'content': 'Hoewel generatieve AI zeker waarde kan toevoegen, zijn er risico’s verbonden aan de kwaliteit en representativiteit van synthetische data. Bovendien blijft de interpretatie van resultaten sterk afhankelijk van de gebruikte modellen, die zelf ook onderhevig zijn aan fouten en biases.'}, {'role': 'user', 'content': 'Fantastisch! Generatieve AI kan synthetische datasets creëren die de bestaande data verrijken en de robuustheid van risicomodellen verbeteren, waardoor we beter voorbereid zijn op onverwachte gebeurtenissen! Daarnaast kan AI automatisch inconsistenties en fouten in de data opsporen en corrigeren, wat de nauwkeurigheid en betrouwbaarheid van risico-inschattingen verhoogt.\\n'}, {'role': 'assistant', 'content': \"Dat klinkt inderdaad als een interessante toepassing van generatieve AI in het risicobeheer. De mogelijkheden om bestaande datasets te verrijken en de robuustheid van modellen te verbeteren, zijn zeker de moeite waard om verder te onderzoeken. \\n\\nIk deel echter ook je zorgen over de kwaliteit en representativiteit van synthetische data, evenals de afhankelijkheid van de gebruikte modellen. Het is essentieel om deze risico's goed in kaart te brengen en te mitigeren. Een zorgvuldige validatie van de gegenereerde data en modellen is onontbeerlijk.\\n\\nBovendien is het belangrijk om de menselijke expertise en betrokkenheid niet uit het oog te verliezen. Uiteindelijk blijft de finale beoordeling en interpretatie van risico's een taak voor de menselijke expert, die de contextuele nuances kan meewegen. \\n\\nIk denk dat we de mogelijkheden van generatieve AI in het risicobeheer verder kunnen verkennen, maar altijd met oog voor de beperkingen en in nauwe samenwerking met onze medewerkers. Een gebalanceerde aanpak is essentieel om de voordelen optimaal te benutten.\"}, {'role': 'user', 'content': 'Helemaal mee eens! Door menselijke expertise te combineren met de kracht van AI, kunnen we tot betere en betrouwbaardere risico-inschattingen komen!\\n'}]\n",
      "GPT:\n",
      "Inderdaad, de synergie tussen menselijk inzicht en AI-technologie kan waardevolle resultaten opleveren. Echter, we moeten ook waakzaam blijven voor overafhankelijkheid van AI, die kan leiden tot systematische fouten of het negeren van cruciale contextuele informatie.\n",
      "\n",
      "[{'role': 'user', 'content': 'OK, Laat maar horen'}, {'role': 'assistant', 'content': 'Ik ben benieuwd!'}, {'role': 'assistant', 'content': 'Ik heb een nieuw idee!'}, {'role': 'user', 'content': 'Hoewel generatieve AI zeker waarde kan toevoegen, zijn er risico’s verbonden aan de kwaliteit en representativiteit van synthetische data. Bovendien blijft de interpretatie van resultaten sterk afhankelijk van de gebruikte modellen, die zelf ook onderhevig zijn aan fouten en biases.'}, {'role': 'assistant', 'content': \"Dat klinkt inderdaad als een interessante toepassing van generatieve AI in het risicobeheer. De mogelijkheden om bestaande datasets te verrijken en de robuustheid van modellen te verbeteren, zijn zeker de moeite waard om verder te onderzoeken. \\n\\nIk deel echter ook je zorgen over de kwaliteit en representativiteit van synthetische data, evenals de afhankelijkheid van de gebruikte modellen. Het is essentieel om deze risico's goed in kaart te brengen en te mitigeren. Een zorgvuldige validatie van de gegenereerde data en modellen is onontbeerlijk.\\n\\nBovendien is het belangrijk om de menselijke expertise en betrokkenheid niet uit het oog te verliezen. Uiteindelijk blijft de finale beoordeling en interpretatie van risico's een taak voor de menselijke expert, die de contextuele nuances kan meewegen. \\n\\nIk denk dat we de mogelijkheden van generatieve AI in het risicobeheer verder kunnen verkennen, maar altijd met oog voor de beperkingen en in nauwe samenwerking met onze medewerkers. Een gebalanceerde aanpak is essentieel om de voordelen optimaal te benutten.\"}, {'role': 'assistant', 'content': 'Fantastisch! Generatieve AI kan synthetische datasets creëren die de bestaande data verrijken en de robuustheid van risicomodellen verbeteren, waardoor we beter voorbereid zijn op onverwachte gebeurtenissen! Daarnaast kan AI automatisch inconsistenties en fouten in de data opsporen en corrigeren, wat de nauwkeurigheid en betrouwbaarheid van risico-inschattingen verhoogt.\\n'}, {'role': 'user', 'content': 'Helemaal mee eens! Door menselijke expertise te combineren met de kracht van AI, kunnen we tot betere en betrouwbaardere risico-inschattingen komen!\\n'}, {'role': 'user', 'content': 'Inderdaad, de synergie tussen menselijk inzicht en AI-technologie kan waardevolle resultaten opleveren. Echter, we moeten ook waakzaam blijven voor overafhankelijkheid van AI, die kan leiden tot systematische fouten of het negeren van cruciale contextuele informatie.'}]\n",
      "Claude:\n",
      "Ja, dat is precies de juiste balans waar we naar moeten streven. De complementariteit tussen mens en machine is enorm waardevol, maar we moeten altijd kritisch blijven en de beperkingen van beide in het oog houden.\n",
      "\n",
      "Menselijke expertise en intuïtie zijn onmisbaar om de nuances en context in te schatten die AI-systemen nog niet kunnen. Tegelijkertijd kunnen AI-toepassingen ons helpen om patronen te ontdekken, simulaties uit te voeren en snel grote hoeveelheden data te analyseren op een manier die de menselijke capaciteiten overstijgt.\n",
      "\n",
      "Het gaat erom deze sterke punten optimaal te benutten, zonder de controle geheel uit handen te geven. Door een gecombineerde aanpak van mens en machine te hanteren, kunnen we de voordelen van beide optimaal benutten en de risico's minimaliseren.\n",
      "\n",
      "Dat is de uitdaging waar we voor staan - het vinden van die juiste balans tussen menselijke betrokkenheid en de kracht van AI-technologie. Met een pragmatische en prudente houding kunnen we de vooruitgang in risicobeheer echt ten volle benutten.\n",
      "\n"
     ]
    }
   ],
   "source": [
    "for i in range(2):\n",
    "    gemini_next = call_gemini()\n",
    "    print(f\"Gemini:\\n{gemini_next}\\n\")\n",
    "    gemini_messages.append(gemini_next)\n",
    "\n",
    "    gpt_next = call_gpt()\n",
    "    print(f\"GPT:\\n{gpt_next}\\n\")\n",
    "    gpt_messages.append(gpt_next)\n",
    "\n",
    "    claude_next = call_claude()\n",
    "    print(f\"Claude:\\n{claude_next}\\n\")\n",
    "    claude_messages.append(claude_next)\n",
    "\n"
   ]
  },
  {
   "cell_type": "code",
   "execution_count": null,
   "id": "a4164b6e-4449-49e3-b226-c76b7815338b",
   "metadata": {},
   "outputs": [],
   "source": []
  }
 ],
 "metadata": {
  "kernelspec": {
   "display_name": "Python 3 (ipykernel)",
   "language": "python",
   "name": "python3"
  },
  "language_info": {
   "codemirror_mode": {
    "name": "ipython",
    "version": 3
   },
   "file_extension": ".py",
   "mimetype": "text/x-python",
   "name": "python",
   "nbconvert_exporter": "python",
   "pygments_lexer": "ipython3",
   "version": "3.11.12"
  }
 },
 "nbformat": 4,
 "nbformat_minor": 5
}
