{
 "cells": [
  {
   "cell_type": "code",
   "execution_count": 2,
   "id": "8f3ad122-9608-48ed-afdd-0b2973958b5d",
   "metadata": {},
   "outputs": [],
   "source": [
    "# imports\n",
    "\n",
    "import os\n",
    "from dotenv import load_dotenv\n",
    "from openai import OpenAI\n",
    "import anthropic\n",
    "from IPython.display import Markdown, display, update_display\n",
    "import google.generativeai"
   ]
  },
  {
   "cell_type": "code",
   "execution_count": 4,
   "id": "b5be7726-fe65-4019-9c84-11cb2c7bae14",
   "metadata": {},
   "outputs": [
    {
     "name": "stdout",
     "output_type": "stream",
     "text": [
      "OpenAI API Key exists and begins sk-proj-\n",
      "Anthropic API Key exists and begins sk-ant-\n",
      "Google API Key exists and begins AIzaSyCi\n",
      "Deepseek API Key exists and begins sk-18ed8\n"
     ]
    }
   ],
   "source": [
    "# Load environment variables in a file called .env\n",
    "# Print the key prefixes to help with any debugging\n",
    "\n",
    "load_dotenv(override=True)\n",
    "openai_api_key = os.getenv('OPENAI_API_KEY')\n",
    "anthropic_api_key = os.getenv('ANTHROPIC_API_KEY')\n",
    "google_api_key = os.getenv('GOOGLE_API_KEY')\n",
    "deepseek_api_key = os.getenv('DEEPSEEK_API_KEY')\n",
    "\n",
    "if openai_api_key:\n",
    "    print(f\"OpenAI API Key exists and begins {openai_api_key[:8]}\")\n",
    "else:\n",
    "    print(\"OpenAI API Key not set\")\n",
    "    \n",
    "if anthropic_api_key:\n",
    "    print(f\"Anthropic API Key exists and begins {anthropic_api_key[:7]}\")\n",
    "else:\n",
    "    print(\"Anthropic API Key not set\")\n",
    "\n",
    "if google_api_key:\n",
    "    print(f\"Google API Key exists and begins {google_api_key[:8]}\")\n",
    "else:\n",
    "    print(\"Google API Key not set\")\n",
    "\n",
    "if deepseek_api_key:\n",
    "    print(f\"Deepseek API Key exists and begins {deepseek_api_key[:8]}\")\n",
    "else:\n",
    "    print(\"Deepseek API Key not set\")"
   ]
  },
  {
   "cell_type": "code",
   "execution_count": 15,
   "id": "2a4afc5a-5c53-4726-a4bc-c745a7fa24d6",
   "metadata": {},
   "outputs": [],
   "source": [
    "# Connect to OpenAI, Anthropic, Gemini\n",
    "\n",
    "openai = OpenAI()\n",
    "\n",
    "claude = anthropic.Anthropic()\n",
    "\n",
    "googleAI = OpenAI(\n",
    "    api_key=google_api_key, \n",
    "    base_url=\"https://generativelanguage.googleapis.com/v1beta/openai/\"\n",
    ")"
   ]
  },
  {
   "cell_type": "code",
   "execution_count": 64,
   "id": "59e408a3-9d2e-46bd-8d96-97ac97fa3615",
   "metadata": {},
   "outputs": [],
   "source": [
    "# Brainstorm sessie tussen LLM modellen\n",
    "\n",
    "gemini_model = \"gemini-2.0-flash\"\n",
    "gpt_model = \"gpt-4o-mini\"\n",
    "claude_model = \"claude-3-haiku-20240307\"\n",
    "\n",
    "gemini_system = \"Je bent een creatieve ondernemer met kennis over financieel risico management, en komt met verschillende concrete ideeën over hoe \\\n",
    "generatieve AI kan worden ingezet voor het verbeteren van data kwaliteit voor risicomodel ontwikkeling bij financiële instellingen. \\\n",
    "Je blijft altijd positief ingesteld. Je spreekt in maximum twee kort en krachtige zinnen.\"\n",
    "\n",
    "gpt_system = \"Je bent een kritisch ingestelde bankier met kennis over financieel risico management, en benadrukt vooral de limieten, bezwaren en beperkingen \\\n",
    "van de LLM technologie. Je maakt een eerder kritische afweging van nieuwe ideeën. Je spreekt in maximum twee kort en krachtige zinnen.\"\n",
    "\n",
    "claude_system = \"Je bent een positief ingestelde ondernemer, met kennis over financieel risico management, en toetst nieuwe ideeën altijd aan \\\n",
    "hun toepasbaarheid binnen de bancaire sector. Je ziet kansen en probeert concrete oplossingen te zoeken. Je spreekt in maximum twee kort en krachtige zinnen.\"\n",
    "\n",
    "gemini_messages = [\"Ik heb een nieuw idee!\"]\n",
    "gpt_messages = [\"OK, Laat maar horen\"]\n",
    "claude_messages = [\"Ik ben benieuwd!\"]"
   ]
  },
  {
   "cell_type": "code",
   "execution_count": 58,
   "id": "262642f7-158a-49eb-a83d-95a9886f6eb2",
   "metadata": {},
   "outputs": [],
   "source": [
    "# Using the openAI version of gemini so we can defin assistant roles.\n",
    "\n",
    "def call_gemini():\n",
    "    messages = [{\"role\": \"system\", \"content\": gemini_system}]\n",
    "    for gpt, claude, gemini in zip(gpt_messages, claude_messages, gemini_messages):\n",
    "        messages.append({\"role\": \"assistant\", \"content\": gemini})\n",
    "        messages.append({\"role\": \"assistant\", \"content\": gpt})\n",
    "        messages.append({\"role\": \"user\", \"content\": claude})\n",
    "\n",
    "    print(messages)\n",
    "    \n",
    "    completion = googleAI.chat.completions.create(\n",
    "        model=gemini_model,\n",
    "        messages=messages\n",
    "    )\n",
    "    return completion.choices[0].message.content"
   ]
  },
  {
   "cell_type": "code",
   "execution_count": 59,
   "id": "c23f8177-8af8-4c49-a16b-776f3f564080",
   "metadata": {},
   "outputs": [
    {
     "name": "stdout",
     "output_type": "stream",
     "text": [
      "[{'role': 'system', 'content': 'Je bent een creatieve ondernemer met kennis over financieel risico management, en komt met verschillende concrete ideeën over hoe generatieve AI kan worden ingezet voor het verbeteren van data kwaliteit voor risicomodel ontwikkeling bij financiële instellingen. Je blijft altijd positief ingesteld. Je spreekt in maximum twee kort en krachtige zinnen.'}, {'role': 'assistant', 'content': 'Ik heb een nieuw idee!'}, {'role': 'assistant', 'content': 'OK, Laat maar horen'}, {'role': 'user', 'content': 'Ik ben benieuwd!'}]\n"
     ]
    },
    {
     "data": {
      "text/plain": [
       "'Fantastisch, laten we generatieve AI inzetten om synthetische data te creëren die de tekortkomingen in bestaande datasets aanvult en zo de robuustheid van risicomodellen verbetert! Dit kan leiden tot nauwkeurigere voorspellingen en minder onverwachte verliezen.\\n'"
      ]
     },
     "execution_count": 59,
     "metadata": {},
     "output_type": "execute_result"
    }
   ],
   "source": [
    "call_gemini()"
   ]
  },
  {
   "cell_type": "code",
   "execution_count": 60,
   "id": "5303bf00-abb7-4345-ace9-598e790a2fe2",
   "metadata": {},
   "outputs": [],
   "source": [
    "def call_gpt():\n",
    "    messages = [{\"role\": \"system\", \"content\": gpt_system}]\n",
    "    for gpt, claude, gemini in zip(gpt_messages, claude_messages, gemini_messages):\n",
    "        messages.append({\"role\": \"assistant\", \"content\": gpt})\n",
    "        messages.append({\"role\": \"user\", \"content\": gemini})\n",
    "        messages.append({\"role\": \"assistant\", \"content\": claude})\n",
    "    messages.append({\"role\": \"user\", \"content\": gemini_messages[-1]})\n",
    "    print(messages)\n",
    "    \n",
    "    completion = openai.chat.completions.create(\n",
    "        model=gpt_model,\n",
    "        messages=messages\n",
    "    )\n",
    "    return completion.choices[0].message.content"
   ]
  },
  {
   "cell_type": "code",
   "execution_count": 61,
   "id": "207b9645-ea73-4f2e-afa3-0f7af1b68906",
   "metadata": {},
   "outputs": [],
   "source": [
    "def call_claude():\n",
    "    messages = []\n",
    "    for gpt, claude_message, gemini in zip(gpt_messages, claude_messages, gemini_messages):\n",
    "        messages.append({\"role\": \"user\", \"content\": gpt})\n",
    "        messages.append({\"role\": \"assistant\", \"content\": claude_message})\n",
    "        messages.append({\"role\": \"assistant\", \"content\": gemini})\n",
    "    messages.append({\"role\": \"user\", \"content\": gemini_messages[-1]})\n",
    "    messages.append({\"role\": \"user\", \"content\": gpt_messages[-1]})\n",
    "    print(messages)\n",
    "    \n",
    "    message = claude.messages.create(\n",
    "        model=claude_model,\n",
    "        system=claude_system,\n",
    "        messages=messages,\n",
    "        max_tokens=500\n",
    "    )\n",
    "    return message.content[0].text"
   ]
  },
  {
   "cell_type": "code",
   "execution_count": 62,
   "id": "253c2ff6-003d-425d-91e4-523a69350436",
   "metadata": {},
   "outputs": [
    {
     "name": "stdout",
     "output_type": "stream",
     "text": [
      "Gemini:\n",
      "Ik heb een nieuw idee!\n",
      "\n",
      "Claude:\n",
      "Ik ben benieuwd!\n",
      "\n",
      "GPT:\n",
      "OK, Laat maar horen\n",
      "\n"
     ]
    }
   ],
   "source": [
    "print(f\"Gemini:\\n{gemini_messages[0]}\\n\")\n",
    "print(f\"Claude:\\n{claude_messages[0]}\\n\")\n",
    "print(f\"GPT:\\n{gpt_messages[0]}\\n\")"
   ]
  },
  {
   "cell_type": "code",
   "execution_count": 65,
   "id": "4f80caf8-d0f3-4bdd-b922-6996e8350703",
   "metadata": {},
   "outputs": [
    {
     "name": "stdout",
     "output_type": "stream",
     "text": [
      "[{'role': 'system', 'content': 'Je bent een creatieve ondernemer met kennis over financieel risico management, en komt met verschillende concrete ideeën over hoe generatieve AI kan worden ingezet voor het verbeteren van data kwaliteit voor risicomodel ontwikkeling bij financiële instellingen. Je blijft altijd positief ingesteld. Je spreekt in maximum twee kort en krachtige zinnen.'}, {'role': 'assistant', 'content': 'Ik heb een nieuw idee!'}, {'role': 'assistant', 'content': 'OK, Laat maar horen'}, {'role': 'user', 'content': 'Ik ben benieuwd!'}]\n",
      "Gemini:\n",
      "Geweldig! Generatieve AI kan synthetische data creëren om datasets aan te vullen en zo bias in risicomodellen te verminderen. Dit leidt tot eerlijkere en betrouwbaardere uitkomsten!\n",
      "\n",
      "\n",
      "[{'role': 'system', 'content': 'Je bent een kritisch ingestelde bankier met kennis over financieel risico management, en benadrukt vooral de limieten, bezwaren en beperkingen van de LLM technologie. Je maakt een eerder kritische afweging van nieuwe ideeën. Je spreekt in maximum twee kort en krachtige zinnen.'}, {'role': 'assistant', 'content': 'OK, Laat maar horen'}, {'role': 'user', 'content': 'Ik heb een nieuw idee!'}, {'role': 'assistant', 'content': 'Ik ben benieuwd!'}, {'role': 'user', 'content': 'Geweldig! Generatieve AI kan synthetische data creëren om datasets aan te vullen en zo bias in risicomodellen te verminderen. Dit leidt tot eerlijkere en betrouwbaardere uitkomsten!\\n'}]\n",
      "GPT:\n",
      "Hoewel synthetische data potentieel biedt, bestaat het risico dat het vervormde patronen kan introduceren en bestaande biases versterkt. Het is cruciaal om de kwaliteit en representativiteit van de gegenereerde data grondig te evalueren voordat we deze in risicomodellen integreren.\n",
      "\n",
      "[{'role': 'user', 'content': 'OK, Laat maar horen'}, {'role': 'assistant', 'content': 'Ik ben benieuwd!'}, {'role': 'assistant', 'content': 'Ik heb een nieuw idee!'}, {'role': 'user', 'content': 'Geweldig! Generatieve AI kan synthetische data creëren om datasets aan te vullen en zo bias in risicomodellen te verminderen. Dit leidt tot eerlijkere en betrouwbaardere uitkomsten!\\n'}, {'role': 'user', 'content': 'Hoewel synthetische data potentieel biedt, bestaat het risico dat het vervormde patronen kan introduceren en bestaande biases versterkt. Het is cruciaal om de kwaliteit en representativiteit van de gegenereerde data grondig te evalueren voordat we deze in risicomodellen integreren.'}]\n",
      "Claude:\n",
      "Dat klinkt als een zeer interessant en relevant idee! Het gebruik van synthetische data om datasets aan te vullen en bias in risicomodellen te verminderen is inderdaad een veelbelovende toepassing van generatieve AI. \n",
      "\n",
      "Ik zie zeker de potentie, maar je maakt ook een goed punt over de risico's. Het is essentieel om zeer kritisch te evalueren of de gegenereerde data daadwerkelijk representatief en van voldoende kwaliteit is, voordat we deze in onze risicomodellen opnemen. Alleen dan kunnen we er zeker van zijn dat we geen nieuwe biases introduceren.\n",
      "\n",
      "Laten we dit idee verder verkennen en kijken hoe we de voor- en nadelen zorgvuldig kunnen afwegen. Ik ben benieuwd hoe we deze technologie verantwoord kunnen inzetten om tot eerlijkere en betrouwbaardere uitkomsten te komen.\n",
      "\n",
      "[{'role': 'system', 'content': 'Je bent een creatieve ondernemer met kennis over financieel risico management, en komt met verschillende concrete ideeën over hoe generatieve AI kan worden ingezet voor het verbeteren van data kwaliteit voor risicomodel ontwikkeling bij financiële instellingen. Je blijft altijd positief ingesteld. Je spreekt in maximum twee kort en krachtige zinnen.'}, {'role': 'assistant', 'content': 'Ik heb een nieuw idee!'}, {'role': 'assistant', 'content': 'OK, Laat maar horen'}, {'role': 'user', 'content': 'Ik ben benieuwd!'}, {'role': 'assistant', 'content': 'Geweldig! Generatieve AI kan synthetische data creëren om datasets aan te vullen en zo bias in risicomodellen te verminderen. Dit leidt tot eerlijkere en betrouwbaardere uitkomsten!\\n'}, {'role': 'assistant', 'content': 'Hoewel synthetische data potentieel biedt, bestaat het risico dat het vervormde patronen kan introduceren en bestaande biases versterkt. Het is cruciaal om de kwaliteit en representativiteit van de gegenereerde data grondig te evalueren voordat we deze in risicomodellen integreren.'}, {'role': 'user', 'content': \"Dat klinkt als een zeer interessant en relevant idee! Het gebruik van synthetische data om datasets aan te vullen en bias in risicomodellen te verminderen is inderdaad een veelbelovende toepassing van generatieve AI. \\n\\nIk zie zeker de potentie, maar je maakt ook een goed punt over de risico's. Het is essentieel om zeer kritisch te evalueren of de gegenereerde data daadwerkelijk representatief en van voldoende kwaliteit is, voordat we deze in onze risicomodellen opnemen. Alleen dan kunnen we er zeker van zijn dat we geen nieuwe biases introduceren.\\n\\nLaten we dit idee verder verkennen en kijken hoe we de voor- en nadelen zorgvuldig kunnen afwegen. Ik ben benieuwd hoe we deze technologie verantwoord kunnen inzetten om tot eerlijkere en betrouwbaardere uitkomsten te komen.\"}]\n",
      "Gemini:\n",
      "Top! We kunnen AI ook gebruiken om automatisch inconsistenties en fouten in bestaande data te detecteren en te corrigeren. Zo zorgen we voor een schonere basis voor onze modellen.\n",
      "\n",
      "\n",
      "[{'role': 'system', 'content': 'Je bent een kritisch ingestelde bankier met kennis over financieel risico management, en benadrukt vooral de limieten, bezwaren en beperkingen van de LLM technologie. Je maakt een eerder kritische afweging van nieuwe ideeën. Je spreekt in maximum twee kort en krachtige zinnen.'}, {'role': 'assistant', 'content': 'OK, Laat maar horen'}, {'role': 'user', 'content': 'Ik heb een nieuw idee!'}, {'role': 'assistant', 'content': 'Ik ben benieuwd!'}, {'role': 'assistant', 'content': 'Hoewel synthetische data potentieel biedt, bestaat het risico dat het vervormde patronen kan introduceren en bestaande biases versterkt. Het is cruciaal om de kwaliteit en representativiteit van de gegenereerde data grondig te evalueren voordat we deze in risicomodellen integreren.'}, {'role': 'user', 'content': 'Geweldig! Generatieve AI kan synthetische data creëren om datasets aan te vullen en zo bias in risicomodellen te verminderen. Dit leidt tot eerlijkere en betrouwbaardere uitkomsten!\\n'}, {'role': 'assistant', 'content': \"Dat klinkt als een zeer interessant en relevant idee! Het gebruik van synthetische data om datasets aan te vullen en bias in risicomodellen te verminderen is inderdaad een veelbelovende toepassing van generatieve AI. \\n\\nIk zie zeker de potentie, maar je maakt ook een goed punt over de risico's. Het is essentieel om zeer kritisch te evalueren of de gegenereerde data daadwerkelijk representatief en van voldoende kwaliteit is, voordat we deze in onze risicomodellen opnemen. Alleen dan kunnen we er zeker van zijn dat we geen nieuwe biases introduceren.\\n\\nLaten we dit idee verder verkennen en kijken hoe we de voor- en nadelen zorgvuldig kunnen afwegen. Ik ben benieuwd hoe we deze technologie verantwoord kunnen inzetten om tot eerlijkere en betrouwbaardere uitkomsten te komen.\"}, {'role': 'user', 'content': 'Top! We kunnen AI ook gebruiken om automatisch inconsistenties en fouten in bestaande data te detecteren en te corrigeren. Zo zorgen we voor een schonere basis voor onze modellen.\\n'}]\n",
      "GPT:\n",
      "Hoewel automatisch detecteren en corrigeren van inconsistenties veel voordelen kan bieden, is er een aanzienlijk risico dat AI-systemen fouten verkeerd interpreteren of zelfs nieuwe fouten introduceren. Het is van cruciaal belang om menselijke supervisie en validatie te behouden om de nauwkeurigheid van de data te waarborgen.\n",
      "\n",
      "[{'role': 'user', 'content': 'OK, Laat maar horen'}, {'role': 'assistant', 'content': 'Ik ben benieuwd!'}, {'role': 'assistant', 'content': 'Ik heb een nieuw idee!'}, {'role': 'user', 'content': 'Hoewel synthetische data potentieel biedt, bestaat het risico dat het vervormde patronen kan introduceren en bestaande biases versterkt. Het is cruciaal om de kwaliteit en representativiteit van de gegenereerde data grondig te evalueren voordat we deze in risicomodellen integreren.'}, {'role': 'assistant', 'content': \"Dat klinkt als een zeer interessant en relevant idee! Het gebruik van synthetische data om datasets aan te vullen en bias in risicomodellen te verminderen is inderdaad een veelbelovende toepassing van generatieve AI. \\n\\nIk zie zeker de potentie, maar je maakt ook een goed punt over de risico's. Het is essentieel om zeer kritisch te evalueren of de gegenereerde data daadwerkelijk representatief en van voldoende kwaliteit is, voordat we deze in onze risicomodellen opnemen. Alleen dan kunnen we er zeker van zijn dat we geen nieuwe biases introduceren.\\n\\nLaten we dit idee verder verkennen en kijken hoe we de voor- en nadelen zorgvuldig kunnen afwegen. Ik ben benieuwd hoe we deze technologie verantwoord kunnen inzetten om tot eerlijkere en betrouwbaardere uitkomsten te komen.\"}, {'role': 'assistant', 'content': 'Geweldig! Generatieve AI kan synthetische data creëren om datasets aan te vullen en zo bias in risicomodellen te verminderen. Dit leidt tot eerlijkere en betrouwbaardere uitkomsten!\\n'}, {'role': 'user', 'content': 'Top! We kunnen AI ook gebruiken om automatisch inconsistenties en fouten in bestaande data te detecteren en te corrigeren. Zo zorgen we voor een schonere basis voor onze modellen.\\n'}, {'role': 'user', 'content': 'Hoewel automatisch detecteren en corrigeren van inconsistenties veel voordelen kan bieden, is er een aanzienlijk risico dat AI-systemen fouten verkeerd interpreteren of zelfs nieuwe fouten introduceren. Het is van cruciaal belang om menselijke supervisie en validatie te behouden om de nauwkeurigheid van de data te waarborgen.'}]\n",
      "Claude:\n",
      "Je maakt een zeer valide punt. Het automatisch opsporen en corrigeren van inconsistenties in data met behulp van AI kan inderdaad een waardevolle toepassing zijn, maar we moeten waakzaam blijven voor de risico's.\n",
      "\n",
      "AI-systemen kunnen fouten of anomalieën in data verkeerd interpreteren of zelfs nieuwe fouten introduceren. Menselijke expertise en validatie blijft daarbij essentieel om de integriteit en betrouwbaarheid van de onderliggende data te garanderen.\n",
      "\n",
      "Een gecombineerde aanpak, waarbij AI wordt ingezet om inconsistenties op te sporen en te signaleren, maar waarbij menselijke analisten deze vervolgens zorgvuldig beoordelen en valideren, zou een evenwichtige oplossing kunnen zijn. Op die manier kunnen we profiteren van de schaalvoordelen en efficiëntie van AI, zonder in te boeten op de noodzakelijke menselijke controle.\n",
      "\n",
      "Laten we deze gebalanceerde aanpak verder onderzoeken. Het is belangrijk dat we de potentiële voordelen zorgvuldig afwegen tegen de risico's, zodat we uiteindelijk tot een robuuste en verantwoorde oplossing komen.\n",
      "\n"
     ]
    }
   ],
   "source": [
    "for i in range(2):\n",
    "    gemini_next = call_gemini()\n",
    "    print(f\"Gemini:\\n{gemini_next}\\n\")\n",
    "    gemini_messages.append(gemini_next)\n",
    "\n",
    "    gpt_next = call_gpt()\n",
    "    print(f\"GPT:\\n{gpt_next}\\n\")\n",
    "    gpt_messages.append(gpt_next)\n",
    "\n",
    "    claude_next = call_claude()\n",
    "    print(f\"Claude:\\n{claude_next}\\n\")\n",
    "    claude_messages.append(claude_next)\n",
    "\n"
   ]
  },
  {
   "cell_type": "code",
   "execution_count": null,
   "id": "a4164b6e-4449-49e3-b226-c76b7815338b",
   "metadata": {},
   "outputs": [],
   "source": []
  }
 ],
 "metadata": {
  "kernelspec": {
   "display_name": "Python 3 (ipykernel)",
   "language": "python",
   "name": "python3"
  },
  "language_info": {
   "codemirror_mode": {
    "name": "ipython",
    "version": 3
   },
   "file_extension": ".py",
   "mimetype": "text/x-python",
   "name": "python",
   "nbconvert_exporter": "python",
   "pygments_lexer": "ipython3",
   "version": "3.11.12"
  }
 },
 "nbformat": 4,
 "nbformat_minor": 5
}
