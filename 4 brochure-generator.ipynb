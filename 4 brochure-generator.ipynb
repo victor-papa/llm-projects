{
 "cells": [
  {
   "cell_type": "code",
   "execution_count": 1,
   "id": "bf998ae4-fc50-47a0-961c-8af31e0dc390",
   "metadata": {},
   "outputs": [],
   "source": [
    "# imports\n",
    "\n",
    "import os\n",
    "import requests\n",
    "from bs4 import BeautifulSoup\n",
    "import json\n",
    "from typing import List\n",
    "from dotenv import load_dotenv\n",
    "from IPython.display import Markdown, display, update_display\n",
    "from openai import OpenAI\n",
    "import google.generativeai\n",
    "import anthropic"
   ]
  },
  {
   "cell_type": "code",
   "execution_count": 2,
   "id": "8983dc92-4301-40c2-83cc-a02d77e26351",
   "metadata": {},
   "outputs": [],
   "source": [
    "import gradio as gr # oh yeah!"
   ]
  },
  {
   "cell_type": "code",
   "execution_count": 3,
   "id": "0ca3f16e-6c20-4f6b-9540-83e3bb6042c1",
   "metadata": {},
   "outputs": [
    {
     "name": "stdout",
     "output_type": "stream",
     "text": [
      "OpenAI API Key exists and begins sk-proj-\n",
      "Anthropic API Key exists and begins sk-ant-\n",
      "Google API Key exists and begins AIzaSyCi\n"
     ]
    }
   ],
   "source": [
    "# Load environment variables in a file called .env\n",
    "# Print the key prefixes to help with any debugging\n",
    "\n",
    "load_dotenv(override=True)\n",
    "openai_api_key = os.getenv('OPENAI_API_KEY')\n",
    "anthropic_api_key = os.getenv('ANTHROPIC_API_KEY')\n",
    "google_api_key = os.getenv('GOOGLE_API_KEY')\n",
    "\n",
    "if openai_api_key:\n",
    "    print(f\"OpenAI API Key exists and begins {openai_api_key[:8]}\")\n",
    "else:\n",
    "    print(\"OpenAI API Key not set\")\n",
    "    \n",
    "if anthropic_api_key:\n",
    "    print(f\"Anthropic API Key exists and begins {anthropic_api_key[:7]}\")\n",
    "else:\n",
    "    print(\"Anthropic API Key not set\")\n",
    "\n",
    "if google_api_key:\n",
    "    print(f\"Google API Key exists and begins {google_api_key[:8]}\")\n",
    "else:\n",
    "    print(\"Google API Key not set\")"
   ]
  },
  {
   "cell_type": "code",
   "execution_count": 4,
   "id": "19459491-196d-421d-9271-755bdcc0b397",
   "metadata": {},
   "outputs": [],
   "source": [
    "# Connect to OpenAI, Anthropic\n",
    "\n",
    "openai = OpenAI()\n",
    "\n",
    "claude = anthropic.Anthropic()\n",
    "\n",
    "#google.generativeai.configure()"
   ]
  },
  {
   "cell_type": "markdown",
   "id": "f6efcbf8-31a3-4f02-a5b9-7e6c16632d6d",
   "metadata": {},
   "source": [
    "### Brochure generator\n",
    "\n",
    "The following code is for an application taking in a webpage and generating a brochure for it.\n",
    "The Brochure for a company can be used for prospective clients, investors and potential recruits.\n",
    "\n",
    "Code steps:\n",
    "1. class Website: a class representing a web page with a title, body and the list of links\n",
    "2. function get_links(url): using LLM to extract the links that would be relevant for a brochure in a json format:\n",
    "        a) system prompt with one-shot encoding making explicit how the output should look like\n",
    "        b) function get_links_user_prompt(website): user prompt providing that instruction and list of scraped links\n",
    "5. function get_all_details(url): creating the Website object, and returning the contents of the url + all relevant links (= long block of text)\n",
    "6. function create_brochure(company_name, url): using llm to create a brochure based on all raw contents:\n",
    "        a) system prompt explaining what the brochure should look like\n",
    "        b) function get_brochure_user_prompt(company_name, url): user prompt providing all the raw contents\n",
    "7. Use gradio interface to run function create_brochure(company_name, url)"
   ]
  },
  {
   "cell_type": "markdown",
   "id": "d606fffe-f49e-4ef2-9762-04b708940baa",
   "metadata": {},
   "source": [
    "### Class website"
   ]
  },
  {
   "cell_type": "code",
   "execution_count": 5,
   "id": "20a84b06-d99a-4958-a949-fbf7fef4655a",
   "metadata": {},
   "outputs": [],
   "source": [
    "# A class to represent a Webpage\n",
    "\n",
    "# Some websites need you to use proper headers when fetching them:\n",
    "headers = {\n",
    " \"User-Agent\": \"Mozilla/5.0 (Windows NT 10.0; Win64; x64) AppleWebKit/537.36 (KHTML, like Gecko) Chrome/117.0.0.0 Safari/537.36\"\n",
    "}\n",
    "\n",
    "class Website:\n",
    "    \"\"\"\n",
    "    A utility class to represent a Website that we have scraped, now with links\n",
    "    \"\"\"\n",
    "\n",
    "    def __init__(self, url):\n",
    "        self.url = url\n",
    "        response = requests.get(url, headers=headers)\n",
    "        self.body = response.content\n",
    "        soup = BeautifulSoup(self.body, 'html.parser')\n",
    "        self.title = soup.title.string if soup.title else \"No title found\"\n",
    "        if soup.body:\n",
    "            for irrelevant in soup.body([\"script\", \"style\", \"img\", \"input\"]):\n",
    "                irrelevant.decompose()\n",
    "            self.text = soup.body.get_text(separator=\"\\n\", strip=True)\n",
    "        else:\n",
    "            self.text = \"\"\n",
    "        links = [link.get('href') for link in soup.find_all('a')]\n",
    "        self.links = [link for link in links if link]\n",
    "\n",
    "    def get_contents(self):\n",
    "        return f\"Webpage Title:\\n{self.title}\\nWebpage Contents:\\n{self.text}\\n\\n\""
   ]
  },
  {
   "cell_type": "code",
   "execution_count": null,
   "id": "15028ea6-19aa-4ef2-8d3c-1129683b74ba",
   "metadata": {},
   "outputs": [],
   "source": [
    "adc = Website(\"https://adc-consulting.com/\")\n",
    "adc.links"
   ]
  },
  {
   "cell_type": "markdown",
   "id": "289ddabb-3551-44e8-aaaf-0d17ee5fc6a7",
   "metadata": {},
   "source": [
    "### Function get_links"
   ]
  },
  {
   "cell_type": "code",
   "execution_count": 12,
   "id": "ff959911-46c1-4131-9739-b5ac6bb98ec5",
   "metadata": {},
   "outputs": [],
   "source": [
    "link_system_prompt = \"You are provided with a list of links found on a webpage. \\\n",
    "You are able to decide which of the links would be most relevant to include in a brochure about the company, \\\n",
    "such as links to an About page, or a Company page, or Careers/Jobs pages.\\n\"\n",
    "link_system_prompt += \"You should respond in JSON as in this example:\"\n",
    "link_system_prompt += \"\"\"\n",
    "{\n",
    "    \"links\": [\n",
    "        {\"type\": \"about page\", \"url\": \"https://full.url/goes/here/about\"},\n",
    "        {\"type\": \"careers page\": \"url\": \"https://another.full.url/careers\"}\n",
    "    ]\n",
    "}\n",
    "\"\"\""
   ]
  },
  {
   "cell_type": "code",
   "execution_count": null,
   "id": "24a49b8d-4720-4027-b305-7a213ad6a50e",
   "metadata": {},
   "outputs": [],
   "source": [
    "print(link_system_prompt)"
   ]
  },
  {
   "cell_type": "code",
   "execution_count": 14,
   "id": "89dfbb20-500c-47bd-9280-ec8f5e4e6f21",
   "metadata": {},
   "outputs": [],
   "source": [
    "def get_links_user_prompt(website):\n",
    "    user_prompt = f\"Here is the list of links on the website of {website.url} - \"\n",
    "    user_prompt += \"please decide which of these are relevant web links for a brochure about the company, respond with the full https URL in JSON format. \\\n",
    "Do not include Terms of Service, Privacy, email links.\\n\"\n",
    "    user_prompt += \"Links (some might be relative links):\\n\"\n",
    "    user_prompt += \"\\n\".join(website.links)\n",
    "    return user_prompt"
   ]
  },
  {
   "cell_type": "code",
   "execution_count": 19,
   "id": "58dcac21-64e9-46f4-8fa2-4cd68d39ab2a",
   "metadata": {},
   "outputs": [],
   "source": [
    "def get_links(url):\n",
    "    website = Website(url)\n",
    "    response = openai.chat.completions.create(\n",
    "        model='gpt-4o-mini',\n",
    "        messages=[\n",
    "            {\"role\": \"system\", \"content\": link_system_prompt},\n",
    "            {\"role\": \"user\", \"content\": get_links_user_prompt(website)}\n",
    "      ],\n",
    "        response_format={\"type\": \"json_object\"}\n",
    "    )\n",
    "    result = response.choices[0].message.content\n",
    "    return json.loads(result)"
   ]
  },
  {
   "cell_type": "code",
   "execution_count": 22,
   "id": "d2291fe9-aa21-4827-88d9-cb6063598043",
   "metadata": {},
   "outputs": [
    {
     "data": {
      "text/plain": [
       "{'links': [{'type': 'about page',\n",
       "   'url': 'https://adc-consulting.com/about-us/'},\n",
       "  {'type': 'careers page', 'url': 'https://adc-consulting.com/careers/'},\n",
       "  {'type': 'services page', 'url': 'https://adc-consulting.com/services/'},\n",
       "  {'type': 'industries page', 'url': 'https://adc-consulting.com/industries/'},\n",
       "  {'type': 'contact page', 'url': 'https://adc-consulting.com/contact/'},\n",
       "  {'type': 'cases page', 'url': 'https://adc-consulting.com/cases/'},\n",
       "  {'type': 'news page', 'url': 'https://adc-consulting.com/news/'}]}"
      ]
     },
     "execution_count": 22,
     "metadata": {},
     "output_type": "execute_result"
    }
   ],
   "source": [
    "get_links(\"https://adc-consulting.com/\")"
   ]
  },
  {
   "cell_type": "markdown",
   "id": "96156d15-84c9-4055-8e90-d53e244dc167",
   "metadata": {},
   "source": [
    "### Function get_all_details"
   ]
  },
  {
   "cell_type": "code",
   "execution_count": 23,
   "id": "6c859b01-380b-47f7-876b-8e373bb70a33",
   "metadata": {},
   "outputs": [],
   "source": [
    "def get_all_details(url):\n",
    "    result = \"Landing page:\\n\"\n",
    "    result += Website(url).get_contents()\n",
    "    links = get_links(url)\n",
    "    print(\"Found links:\", links)\n",
    "    for link in links[\"links\"]:\n",
    "        result += f\"\\n\\n{link['type']}\\n\"\n",
    "        result += Website(link[\"url\"]).get_contents()\n",
    "    return result"
   ]
  },
  {
   "cell_type": "code",
   "execution_count": null,
   "id": "3bf1c677-253c-4f32-842f-9c444b936a9e",
   "metadata": {},
   "outputs": [],
   "source": [
    "print(get_all_details(\"https://adc-consulting.com/\"))"
   ]
  },
  {
   "cell_type": "markdown",
   "id": "b7e76835-aad9-42e2-81cb-f657be9e4e98",
   "metadata": {},
   "source": [
    "### Function create_brochure"
   ]
  },
  {
   "cell_type": "code",
   "execution_count": 26,
   "id": "9581a551-db94-40cc-bb40-4d8dedc35182",
   "metadata": {},
   "outputs": [],
   "source": [
    "system_prompt = \"You are an assistant that analyzes the contents of several relevant pages from a company website \\\n",
    "and creates a short brochure about the company for prospective customers, investors and recruits. Respond in markdown.\\\n",
    "Include details of company culture, customers and careers/jobs if you have the information.\""
   ]
  },
  {
   "cell_type": "code",
   "execution_count": 27,
   "id": "9ec81d4b-9bc0-4d9a-8134-6826c1e68b19",
   "metadata": {},
   "outputs": [],
   "source": [
    "def get_brochure_user_prompt(company_name, url):\n",
    "    user_prompt = f\"You are looking at a company called: {company_name}\\n\"\n",
    "    user_prompt += f\"Here are the contents of its landing page and other relevant pages; use this information to build a short brochure of the company in markdown.\\n\"\n",
    "    user_prompt += get_all_details(url)\n",
    "    user_prompt = user_prompt[:5_000] # Truncate if more than 5,000 characters\n",
    "    return user_prompt"
   ]
  },
  {
   "cell_type": "code",
   "execution_count": null,
   "id": "2aeaa967-408c-4dd6-b0b0-f5f016c2f6f5",
   "metadata": {},
   "outputs": [],
   "source": [
    "get_brochure_user_prompt(\"Amsterdam Data Collective\", \"https://adc-consulting.com/\")"
   ]
  },
  {
   "cell_type": "code",
   "execution_count": 48,
   "id": "cc119263-a5cb-45ef-8ff8-6d2c870e6a5c",
   "metadata": {},
   "outputs": [],
   "source": [
    "def stream_brochure_gpt(company_name, url):\n",
    "    stream = openai.chat.completions.create(\n",
    "        model='gpt-4o-mini',\n",
    "        messages=[\n",
    "            {\"role\": \"system\", \"content\": system_prompt},\n",
    "            {\"role\": \"user\", \"content\": get_brochure_user_prompt(company_name, url)}\n",
    "          ],\n",
    "        stream=True\n",
    "    )\n",
    "    \n",
    "    result = \"\"\n",
    "    for chunk in stream:\n",
    "        result += chunk.choices[0].delta.content or \"\"\n",
    "        yield result"
   ]
  },
  {
   "cell_type": "code",
   "execution_count": 49,
   "id": "95eb2cf0-d529-4df5-9556-7a5027afbfcb",
   "metadata": {},
   "outputs": [],
   "source": [
    "def stream_brochure_claude(company_name, url):\n",
    "    result = claude.messages.stream(\n",
    "        model=\"claude-3-haiku-20240307\",\n",
    "        max_tokens=1000,\n",
    "        temperature=0.7,\n",
    "        system=system_prompt,\n",
    "        messages=[\n",
    "            {\"role\": \"user\", \"content\": get_brochure_user_prompt(company_name, url)},\n",
    "        ],\n",
    "    )\n",
    "    response = \"\"\n",
    "    with result as stream:\n",
    "        for text in stream.text_stream:\n",
    "            response += text or \"\"\n",
    "            yield response"
   ]
  },
  {
   "cell_type": "markdown",
   "id": "8b664e80-d97b-4fc9-a4d2-28d4288e75a6",
   "metadata": {},
   "source": [
    "### Call Gradio"
   ]
  },
  {
   "cell_type": "code",
   "execution_count": 36,
   "id": "d8beb9ab-82bc-4e7c-a70d-045404124164",
   "metadata": {},
   "outputs": [],
   "source": [
    "force_dark_mode = \"\"\"\n",
    "function refresh() {\n",
    "    const url = new URL(window.location);\n",
    "    if (url.searchParams.get('__theme') !== 'dark') {\n",
    "        url.searchParams.set('__theme', 'dark');\n",
    "        window.location.href = url.href;\n",
    "    }\n",
    "}\n",
    "\"\"\""
   ]
  },
  {
   "cell_type": "code",
   "execution_count": 50,
   "id": "f6cd5ab9-83d3-4a48-9aab-02df2eff0f12",
   "metadata": {},
   "outputs": [],
   "source": [
    "def stream_brochure_model(company_name, url, model):\n",
    "    if model==\"GPT\":\n",
    "        result = stream_brochure_gpt(company_name, url)\n",
    "    elif model==\"Claude\":\n",
    "        result = stream_brochure_claude(company_name, url)\n",
    "    else:\n",
    "        raise ValueError(\"Unknown model\")\n",
    "    yield from result"
   ]
  },
  {
   "cell_type": "code",
   "execution_count": 51,
   "id": "611ead03-3b14-40a1-99b0-13e2dbe49934",
   "metadata": {},
   "outputs": [
    {
     "name": "stdout",
     "output_type": "stream",
     "text": [
      "* Running on local URL:  http://127.0.0.1:7878\n",
      "\n",
      "To create a public link, set `share=True` in `launch()`.\n"
     ]
    },
    {
     "data": {
      "text/html": [
       "<div><iframe src=\"http://127.0.0.1:7878/\" width=\"100%\" height=\"500\" allow=\"autoplay; camera; microphone; clipboard-read; clipboard-write;\" frameborder=\"0\" allowfullscreen></iframe></div>"
      ],
      "text/plain": [
       "<IPython.core.display.HTML object>"
      ]
     },
     "metadata": {},
     "output_type": "display_data"
    },
    {
     "data": {
      "text/plain": []
     },
     "execution_count": 51,
     "metadata": {},
     "output_type": "execute_result"
    },
    {
     "name": "stdout",
     "output_type": "stream",
     "text": [
      "Found links: {'links': [{'type': 'about page', 'url': 'https://adc-consulting.com/about-us/'}, {'type': 'careers page', 'url': 'https://adc-consulting.com/careers/'}, {'type': 'services page', 'url': 'https://adc-consulting.com/services/'}, {'type': 'industries page', 'url': 'https://adc-consulting.com/industries/'}, {'type': 'cases page', 'url': 'https://adc-consulting.com/cases/'}, {'type': 'news page', 'url': 'https://adc-consulting.com/news/'}, {'type': 'contact page', 'url': 'https://adc-consulting.com/contact/'}]}\n",
      "Found links: {'links': [{'type': 'about page', 'url': 'https://adc-consulting.com/about-us/'}, {'type': 'careers page', 'url': 'https://adc-consulting.com/careers/'}, {'type': 'services page', 'url': 'https://adc-consulting.com/services/'}, {'type': 'industries page', 'url': 'https://adc-consulting.com/industries/'}, {'type': 'cases page', 'url': 'https://adc-consulting.com/cases/'}, {'type': 'news page', 'url': 'https://adc-consulting.com/news/'}, {'type': 'contact page', 'url': 'https://adc-consulting.com/contact/'}]}\n"
     ]
    }
   ],
   "source": [
    "view = gr.Interface(\n",
    "    fn=stream_brochure_model,\n",
    "    inputs=[gr.Textbox(label=\"Company name:\"), gr.Textbox(label=\"Company url\"), gr.Dropdown([\"GPT\", \"Claude\"], label=\"Select model\")],\n",
    "    outputs=[gr.Markdown(label=\"Brochure:\")],\n",
    "    flagging_mode=\"never\", js=force_dark_mode\n",
    ")\n",
    "view.launch(inbrowser=True)"
   ]
  },
  {
   "cell_type": "code",
   "execution_count": null,
   "id": "8506e057-c05e-4ddb-8feb-201ca9c24cf4",
   "metadata": {},
   "outputs": [],
   "source": []
  }
 ],
 "metadata": {
  "kernelspec": {
   "display_name": "Python 3 (ipykernel)",
   "language": "python",
   "name": "python3"
  },
  "language_info": {
   "codemirror_mode": {
    "name": "ipython",
    "version": 3
   },
   "file_extension": ".py",
   "mimetype": "text/x-python",
   "name": "python",
   "nbconvert_exporter": "python",
   "pygments_lexer": "ipython3",
   "version": "3.11.12"
  }
 },
 "nbformat": 4,
 "nbformat_minor": 5
}
